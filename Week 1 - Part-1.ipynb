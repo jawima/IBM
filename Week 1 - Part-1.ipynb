{
    "nbformat_minor": 1, 
    "cells": [
        {
            "source": "## The Battle of the Neighborhoods - Week 1", 
            "cell_type": "markdown", 
            "metadata": {
                "collapsed": true
            }
        }, 
        {
            "source": "### Introduction & Business Problem :", 
            "cell_type": "markdown", 
            "metadata": {}
        }, 
        {
            "source": "###  Problem Background:", 
            "cell_type": "markdown", 
            "metadata": {}
        }, 
        {
            "source": "The City of New York is America's most populous city. It's diverse and the financial capital of the United States. It is multicultural. It offers many business opportunities and an environment that is friendly to business. It's attracted a lot of different market players. It's a business and trade hub worldwide. The city is a major destination in the United States for banking and finance, retail, world trade, transportation, tourism, property development, new media, online media, marketing, services, bookkeeping, insurance, movie theatre, clothing, and music and art. This also implies an extremely competitive marketplace. Since it is a highly evolved city, it is also one of the highest costs to do business. Any new company project or development therefore needs to be carefully analyzed. The observations derived from the analysis will provide a great understanding of the work environment that helps to target the market tactically. This will help to reduce risk. And it'll be reasonable to return on investment.", 
            "cell_type": "markdown", 
            "metadata": {}
        }, 
        {
            "source": "###  Problem Description:", 
            "cell_type": "markdown", 
            "metadata": {}
        }, 
        {
            "source": "A restaurant is a business that helps prepare and provides drinks and snacks to clients in exchange for cash, either paid until meal, after plate of food, or with an accessible account. New York City is renowned for its excellent cuisine. Its cuisine includes a variety of worldwide cuisines that are impacted by the immigrant history of the place. 1.	Foreigners from Central and Eastern Europe, particularly Jewish immigrants-bagels, cheesecake, hot dogs, knives and delicacies 2.	Italian immigrants-pizza in New York and Spanish cuisine 3.	Italian pizza for immigrants in New York and Spanish cuisine 4.	Chinese and other Asian restaurants, sandwich joints, tropical gardens, dinners and coffee shops all over the city 5.	Mobile food suppliers-Approximately 4,000 city licensed 6.	Examples of modern New York street food such as shawarma and kebabs 7.	It is popular not only for Pizzerias, Cafe's, but also for Michelin starred restaurants. According to Michelin, its city is home to nearly one thousand of the world's finest and most diverse gourmet dinners.", 
            "cell_type": "markdown", 
            "metadata": {}
        }, 
        {
            "source": "### Target Audience:", 
            "cell_type": "markdown", 
            "metadata": {}
        }, 
        {
            "source": "To suggest the right area, XYZ Company Ltd has designated me to lead of the Information Science group. The objective is to find and prescribe to the administration which neighborhood of Modern York city will be best choice to begin an eatery. The Administration moreover anticipates getting it the method of reasoning of the suggestions made.", 
            "cell_type": "markdown", 
            "metadata": {}
        }, 
        {
            "source": "###  Success Criteria:", 
            "cell_type": "markdown", 
            "metadata": {}
        }, 
        {
            "source": "The victory criteria of the extend will be a great proposal of borough/Neighborhood choice to XYZ Company Ltd based on Need of such eateries in that area and closest providers of fixings", 
            "cell_type": "markdown", 
            "metadata": {}
        }
    ], 
    "metadata": {
        "kernelspec": {
            "display_name": "Python 3.5", 
            "name": "python3", 
            "language": "python"
        }, 
        "language_info": {
            "mimetype": "text/x-python", 
            "nbconvert_exporter": "python", 
            "version": "3.5.5", 
            "name": "python", 
            "file_extension": ".py", 
            "pygments_lexer": "ipython3", 
            "codemirror_mode": {
                "version": 3, 
                "name": "ipython"
            }
        }
    }, 
    "nbformat": 4
}
