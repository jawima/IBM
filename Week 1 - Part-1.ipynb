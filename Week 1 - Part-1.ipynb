{
    "nbformat_minor": 1, 
    "cells": [
        {
            "source": "## The Battle of the Neighborhoods - Week 1", 
            "cell_type": "markdown", 
            "metadata": {
                "collapsed": true
            }
        }, 
        {
            "source": "### Introduction & Business Problem :", 
            "cell_type": "markdown", 
            "metadata": {}
        }, 
        {
            "source": "###  Problem Background:", 
            "cell_type": "markdown", 
            "metadata": {}
        }, 
        {
            "source": "The City of New York, is the most populous city in the United States. It is diverse and is the financial capital of USA. It is multicultural. It provides lot of business oppourtunities and business friendly environment. It has attracted many different players into the market. It is a global hub of business and commerce. The city is a major center for banking and finance, retailing, world trade, transportation, tourism, real estate, new media, traditional media, advertising, legal services, accountancy, insurance, theater, fashion, and the arts in the United States.\n\nThis also means that the market is highly competitive. As it is highly developed city so cost of doing business is also one of the highest.\nThus, any new business venture or expansion needs to be analysed carefully. The insights derived from analysis will give good understanding \nof the business environment which help in strategically targeting the market. This will help in reduction of risk. And the Return on Investment will be reasonable.", 
            "cell_type": "markdown", 
            "metadata": {}
        }, 
        {
            "source": "###  Problem Description:", 
            "cell_type": "markdown", 
            "metadata": {}
        }, 
        {
            "source": "The City of Modern York is the foremost swarmed city within the United States. It is distinctive and is the cash related capital of USA. It is multicultural. It gives allocate of commerce openings and commerce pleasant condition. It has pulled in a wide extend of players into the advertise. It may be an around the world center point of trade and exchange. The city could be a vital put for keeping money and money, retailing, world trade, transportation, the travel industry, arrive, unused media, standard media, advancing, genuine organizations, bookkeeping, security, theater, fashion, and expressions of the human involvement within the Joined together States.", 
            "cell_type": "markdown", 
            "metadata": {}
        }, 
        {
            "source": "### Target Audience:", 
            "cell_type": "markdown", 
            "metadata": {}
        }, 
        {
            "source": "To recommend the correct location, XYZ Company Ltd has appointed me to lead of the Data Science team. The objective is to locate and recommend to the management which neighborhood of Newyork city will be best choice to start a restaurant. The Management also expects to understand the rationale of the recommendations made.\n\nThis would interest anyone who wants to start a new restaurant in Newyork city.", 
            "cell_type": "markdown", 
            "metadata": {}
        }, 
        {
            "source": "###  Success Criteria:", 
            "cell_type": "markdown", 
            "metadata": {}
        }, 
        {
            "source": "The success criteria of the project will be a good recommendation of borough/Neighborhood choice to XYZ Company Ltd based on Lack of such restaurants in that location and nearest suppliers of ingredients.", 
            "cell_type": "markdown", 
            "metadata": {}
        }
    ], 
    "metadata": {
        "kernelspec": {
            "display_name": "Python 3.5", 
            "name": "python3", 
            "language": "python"
        }, 
        "language_info": {
            "mimetype": "text/x-python", 
            "nbconvert_exporter": "python", 
            "version": "3.5.5", 
            "name": "python", 
            "file_extension": ".py", 
            "pygments_lexer": "ipython3", 
            "codemirror_mode": {
                "version": 3, 
                "name": "ipython"
            }
        }
    }, 
    "nbformat": 4
}
