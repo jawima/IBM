{
    "nbformat_minor": 1, 
    "cells": [
        {
            "source": "## The Battle of the Neighborhoods - Week 1", 
            "cell_type": "markdown", 
            "metadata": {
                "collapsed": true
            }
        }, 
        {
            "source": "### Introduction & Business Problem :", 
            "cell_type": "markdown", 
            "metadata": {}
        }, 
        {
            "source": "###  Problem Background:", 
            "cell_type": "markdown", 
            "metadata": {}
        }, 
        {
            "source": "The City of Modern York is the foremost swarmed city within the United States. It is distinctive and is the cash related capital of USA. It is multicultural. It gives allocate of commerce openings and commerce pleasant condition. It has pulled in a wide extend of players into the advertise. It may be an around the world center point of trade and exchange. The city could be a vital put for keeping money and money, retailing, world trade, transportation, the travel industry, arrive, unused media, standard media, advancing, genuine organizations, bookkeeping, security, theater, fashion, and expressions of the human involvement within the Joined together States.\n\nThis moreover implies that the showcase is exceedingly competitive. Because it is profoundly created city so cost of doing commerce is additionally one of the highest. Thus, any modern trade wander or extension must be dissected carefully. The bits of knowledge determined from examination will deliver great understanding of the trade environment which offers assistance in deliberately focusing on the showcase. This will offer assistance in diminishment of chance. And the Return on Speculation will be sensible.", 
            "cell_type": "markdown", 
            "metadata": {}
        }, 
        {
            "source": "###  Problem Description:", 
            "cell_type": "markdown", 
            "metadata": {}
        }, 
        {
            "source": "A restaurant is a business that helps prepare and provides drinks and snacks to clients in exchange for cash, either paid until meal, after plate of food, or with an accessible account. New York City is renowned for its excellent cuisine. Its cuisine includes a variety of worldwide cuisines that are impacted by the immigrant history of the place.", 
            "cell_type": "markdown", 
            "metadata": {}
        }, 
        {
            "source": "### Target Audience:", 
            "cell_type": "markdown", 
            "metadata": {}
        }, 
        {
            "source": "The victory criteria of the extend will be a great proposal of borough/Neighborhood choice to XYZ Company Ltd based on Need of such eateries in that area and closest providers of fixings.", 
            "cell_type": "markdown", 
            "metadata": {}
        }, 
        {
            "source": "###  Success Criteria:", 
            "cell_type": "markdown", 
            "metadata": {}
        }, 
        {
            "source": "The success criteria of the project will be a good recommendation of borough/Neighborhood choice to XYZ Company Ltd based on Lack of such restaurants in that location and nearest suppliers of ingredients.", 
            "cell_type": "markdown", 
            "metadata": {}
        }
    ], 
    "metadata": {
        "kernelspec": {
            "display_name": "Python 3.5", 
            "name": "python3", 
            "language": "python"
        }, 
        "language_info": {
            "mimetype": "text/x-python", 
            "nbconvert_exporter": "python", 
            "version": "3.5.5", 
            "name": "python", 
            "file_extension": ".py", 
            "pygments_lexer": "ipython3", 
            "codemirror_mode": {
                "version": 3, 
                "name": "ipython"
            }
        }
    }, 
    "nbformat": 4
}
