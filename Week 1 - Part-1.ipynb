{
    "nbformat_minor": 1, 
    "cells": [
        {
            "source": "## The Battle of the Neighborhoods - Week 1", 
            "cell_type": "markdown", 
            "metadata": {
                "collapsed": true
            }
        }, 
        {
            "source": "### Introduction & Business Problem :", 
            "cell_type": "markdown", 
            "metadata": {}
        }, 
        {
            "source": "###  Problem Background:", 
            "cell_type": "markdown", 
            "metadata": {}
        }, 
        {
            "source": "The City of Modern York is the foremost swarmed city within the United States. It is distinctive and is the cash related capital of USA. It is multicultural. It gives allocate of commerce openings and commerce pleasant condition. It has pulled in a wide extend of players into the advertise. It may be an around the world center point of trade and exchange. The city could be a vital put for keeping money and money, retailing, world trade, transportation, the travel industry, arrive, unused media, standard media, advancing, genuine organizations, bookkeeping, security, theater, fashion, and expressions of the human involvement within the Joined together States.\n\nThis moreover implies that the showcase is exceedingly competitive. Because it is profoundly created city so cost of doing commerce is additionally one of the highest. Thus, any modern trade wander or extension must be dissected carefully. The bits of knowledge determined from examination will deliver great understanding of the trade environment which offers assistance in deliberately focusing on the showcase. This will offer assistance in diminishment of chance. And the Return on Speculation will be sensible.", 
            "cell_type": "markdown", 
            "metadata": {}
        }, 
        {
            "source": "###  Problem Description:", 
            "cell_type": "markdown", 
            "metadata": {}
        }, 
        {
            "source": "A restaurant is a business that helps prepare and provides drinks and snacks to clients in exchange for cash, either paid until meal, after plate of food, or with an accessible account. New York City is renowned for its excellent cuisine. Its cuisine includes a variety of worldwide cuisines that are impacted by the immigrant history of the place. <Br> \n1 Foreigners from Central and Eastern Europe, particularly Jewish immigrants-bagels, cheesecake, hot dogs, knives and delicacies <Br> \n2  	Italian immigrants-pizza in New York and Spanish cuisine <Br>\n3. Italian pizza for immigrants in New York and Spanish cuisine <Br>\n4Chinese and other Asian restaurants, sandwich joints, tropical gardens, dinners and coffee shops all over the city <Br>\n5Mobile food suppliers-Approximately 4,000 city licensed <Br>\n6.Examples of modern New York street food such as shawarma and kebabs<Br>\n7It is popular not only for Pizzerias, Cafe's, but also for Michelin starred restaurants. According to Michelin, its city is home to nearly one thousand of the world's finest and most diverse gourmet dinners.\n\nSo it is clear that to outlive in such competitive advertise it is very imperative to strategically arrange. Different components have to be examined in order to choose on the Area such as: New York Population<Br>\n1New York City Demographics<Br>\n2Are there any Farmers Markets, Wholesale markets and more nearby so that the ingredients can be purchased fresh to maintain quality and cost?<Br>\n3 Are there any venues like Gyms, Entertainment zones, Parks etc. nearby where floating population is high<Br>\n4Who are the competitors in that location?<Br>\n5Cuisine served/Menu of the competitors<Br>\n6Segmentation of the Borough<Br>\n7Untapped markets<Br>\n7Saturated markets etc.<Br>\nThe list can go on.\n\nEven though well supported XYZ Company Ltd. got to choose the proper area to begin its to begin with venture. If this can be fruitful they can duplicate the same in other areas. To begin with move is exceptionally vital; in this manner choice of area is exceptionally imperative.", 
            "cell_type": "markdown", 
            "metadata": {}
        }, 
        {
            "source": "### Target Audience:", 
            "cell_type": "markdown", 
            "metadata": {}
        }, 
        {
            "source": "To recommend the correct location, XYZ Company Ltd has appointed me to lead of the Data Science team. The objective is to locate and recommend to the management which neighborhood of Newyork city will be best choice to start a restaurant. The Management also expects to understand the rationale of the recommendations made.\n\nThis would interest anyone who wants to start a new restaurant in Newyork city.", 
            "cell_type": "markdown", 
            "metadata": {}
        }, 
        {
            "source": "###  Success Criteria:", 
            "cell_type": "markdown", 
            "metadata": {}
        }, 
        {
            "source": "The success criteria of the project will be a good recommendation of borough/Neighborhood choice to XYZ Company Ltd based on Lack of such restaurants in that location and nearest suppliers of ingredients.", 
            "cell_type": "markdown", 
            "metadata": {}
        }
    ], 
    "metadata": {
        "kernelspec": {
            "display_name": "Python 3.5", 
            "name": "python3", 
            "language": "python"
        }, 
        "language_info": {
            "mimetype": "text/x-python", 
            "nbconvert_exporter": "python", 
            "version": "3.5.5", 
            "name": "python", 
            "file_extension": ".py", 
            "pygments_lexer": "ipython3", 
            "codemirror_mode": {
                "version": 3, 
                "name": "ipython"
            }
        }
    }, 
    "nbformat": 4
}
