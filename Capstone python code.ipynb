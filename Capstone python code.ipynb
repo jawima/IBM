# This notebook is mainly used for the Capstone Project of Coursera
import pandas as pd
import numpy as np
print("Hello Capstone Project Course!")
